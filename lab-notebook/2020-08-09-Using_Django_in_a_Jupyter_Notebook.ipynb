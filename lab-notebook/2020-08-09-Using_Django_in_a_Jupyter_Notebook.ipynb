{
 "cells": [
  {
   "cell_type": "markdown",
   "metadata": {},
   "source": [
    "## 2020-08-09: Using Django in a Jupyter Notebook\n",
    "\n",
    "*Last Updated*: 2020-08-09\n",
    "\n",
    "### Authors\n",
    "* Kevin Chu (kevin@velexi.com)\n",
    "\n",
    "### Overview\n",
    "This Jupyter notebook provides demonstrate how to use Django within a Jupyter notebook.\n",
    "\n",
    "### Instructions\n",
    "\n",
    "* __Configure Jupyter notebook to use the \"Django Shell-Plus\" kernel__\n",
    "\n",
    "    * The currently active kernel is displayed in the upper right hand corner of the Jupyter\n",
    "      noteook.\n",
    "\n",
    "    * To change the kernel, navigate to Kernel > \"Change kernel\" from the main navigation bar.\n",
    "      Select \"Django Shell-Plus\". If \"Django Shell-Plus\" is not available as an option, the\n",
    "      environment variables the shell probably need to be modified.\n",
    "\n",
    "* __Initialize Django before accessing Django models__\n",
    "\n",
    "    * There are two ways to initialize Django.\n",
    "        \n",
    "        * Start Jupyter notebook using an alternate shell command that automatically\n",
    "          initializes Django.\n",
    "        \n",
    "          ```\n",
    "          $ python $LIB_DIR/upside/manage.py shell_plus --notebook\n",
    "          ```\n",
    "           \n",
    "          As a convenience, add an alias to the `.env` file.\n",
    "           \n",
    "          ```\n",
    "          alias jndjango='python $LIB_DIR/lib/upside/manage.py shell_plus --notebook'\n",
    "          ```\n",
    "        \n",
    "        * Manually initialize Django in Python code before importing Django data models.\n",
    "        \n",
    "          ```python\n",
    "          os.environ.setdefault(\"DJANGO_SETTINGS_MODULE\",\n",
    "                                \"upside.db.django_config.settings\")\n",
    "          django.setup()\n",
    "          ```\n",
    "    \n",
    "* __Allow Django to operate in an asynchronize environment (such as Jupyter notebook)__\n",
    "\n",
    "    * Set the environment variable `DJANGO_ALLOW_ASYNC_UNSAFE` to \"true\" before using Django\n",
    "      queries to access data.\n",
    "\n",
    "        ```\n",
    "        os.environ[\"DJANGO_ALLOW_ASYNC_UNSAFE\"] = \"true\"\n",
    "        ```\n",
    "    \n",
    "    * _Reference_. https://docs.djangoproject.com/en/3.0/topics/async/"
   ]
  },
  {
   "cell_type": "code",
   "execution_count": 1,
   "metadata": {},
   "outputs": [],
   "source": [
    "# --- Imports\n",
    "\n",
    "# Standard library\n",
    "import logging\n",
    "import os\n",
    "\n",
    "# Configure Django\n",
    "import django\n",
    "os.environ.setdefault(\"DJANGO_SETTINGS_MODULE\",\n",
    "                      \"upside.db.django_config.settings\")\n",
    "os.environ[\"DJANGO_ALLOW_ASYNC_UNSAFE\"] = \"true\"\n",
    "django.setup()\n",
    "\n",
    "# Upside\n",
    "from upside.db.data_store.models import Company  # noqa"
   ]
  },
  {
   "cell_type": "code",
   "execution_count": 2,
   "metadata": {},
   "outputs": [],
   "source": [
    "# --- Preparations\n",
    "\n",
    "# Initialize data records\n",
    "tickers_with_data = []\n",
    "fundamental_data = {\n",
    "    'company_info': {},\n",
    "    'balance_sheet': {},\n",
    "    'cash_flow_statement': {},\n",
    "    'income_statement': {},\n",
    "    }\n",
    "fundamental_data = {}\n",
    "market_data = {}\n",
    "screening_metrics = {}\n",
    "\n",
    "# Initialize results records\n",
    "candidates = []\n",
    "business_analysis_data = {}"
   ]
  },
  {
   "cell_type": "code",
   "execution_count": 3,
   "metadata": {},
   "outputs": [
    {
     "name": "stdout",
     "output_type": "stream",
     "text": [
      "Number of companies: 4738\n",
      "First 5 companies\n",
      "   A (Agilent Technologies, Inc.)\n",
      "   AA (Alcoa Corporation)\n",
      "   AAL (American Airlines Group Inc.)\n",
      "   AAMC (Altisource Asset Management Corporation)\n",
      "   AAME (Atlantic American Corporation)\n"
     ]
    }
   ],
   "source": [
    "# --- Perform Django queries to access data\n",
    "\n",
    "# Retrieve all Company records from database\n",
    "companies = Company.objects.all()\n",
    "\n",
    "print(\"Number of companies: {}\".format(len(companies)))\n",
    "print(\"First 5 companies\")\n",
    "for company in companies[0:5]:\n",
    "    print(\"   {}\".format(company))"
   ]
  }
 ],
 "metadata": {
  "kernelspec": {
   "display_name": "Django Shell-Plus",
   "language": "python",
   "name": "django_extensions"
  },
  "language_info": {
   "codemirror_mode": {
    "name": "ipython",
    "version": 3
   },
   "file_extension": ".py",
   "mimetype": "text/x-python",
   "name": "python",
   "nbconvert_exporter": "python",
   "pygments_lexer": "ipython3",
   "version": "3.8.5"
  }
 },
 "nbformat": 4,
 "nbformat_minor": 4
}
