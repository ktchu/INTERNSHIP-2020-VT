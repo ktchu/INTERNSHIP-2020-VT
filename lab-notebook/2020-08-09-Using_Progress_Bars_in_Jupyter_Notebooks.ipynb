{
 "cells": [
  {
   "cell_type": "markdown",
   "metadata": {},
   "source": [
    "## 2020-08-09: Using Progress Bars in Jupyter Notebooks\n",
    "\n",
    "*Last Updated*: 2020-08-09\n",
    "\n",
    "### Authors\n",
    "* Kevin Chu (kevin@velexi.com)\n",
    "\n",
    "### Overview\n",
    "This Jupyter notebook demonstrates how to use progress bars in Jupyter notebook."
   ]
  },
  {
   "cell_type": "code",
   "execution_count": 1,
   "metadata": {},
   "outputs": [],
   "source": [
    "# -- Imports\n",
    "\n",
    "# Standard library\n",
    "import time\n",
    "\n",
    "# External packages\n",
    "import tqdm.notebook"
   ]
  },
  {
   "cell_type": "code",
   "execution_count": 2,
   "metadata": {},
   "outputs": [
    {
     "data": {
      "application/vnd.jupyter.widget-view+json": {
       "model_id": "ad5cc51f297341c6809b0f88774c4cd9",
       "version_major": 2,
       "version_minor": 0
      },
      "text/plain": [
       "HBox(children=(FloatProgress(value=0.0, max=99.0), HTML(value='')))"
      ]
     },
     "metadata": {},
     "output_type": "display_data"
    },
    {
     "name": "stdout",
     "output_type": "stream",
     "text": [
      "\n"
     ]
    },
    {
     "data": {
      "application/vnd.jupyter.widget-view+json": {
       "model_id": "361766dc15e9438d9f72811f6f378e86",
       "version_major": 2,
       "version_minor": 0
      },
      "text/plain": [
       "HBox(children=(FloatProgress(value=0.0, description=\"Looping over 'items'\", max=50.0, style=ProgressStyle(desc…"
      ]
     },
     "metadata": {},
     "output_type": "display_data"
    },
    {
     "name": "stdout",
     "output_type": "stream",
     "text": [
      "\n"
     ]
    }
   ],
   "source": [
    "# --- Loop over a range\n",
    "\n",
    "with tqdm.notebook.trange(1, 100) as progress_bar:\n",
    "    for i in progress_bar:\n",
    "        progress_bar.set_description(\"Processing i={}\".format(i))\n",
    "        time.sleep(0.1)\n",
    "        \n",
    "# --- Loop over a list of items\n",
    "\n",
    "items = ['a', 'b', 'c', 'd', 'e']*10\n",
    "for item in tqdm.notebook.tqdm(items, unit='items', desc=\"Looping over 'items'\"):\n",
    "    time.sleep(0.5)"
   ]
  }
 ],
 "metadata": {
  "kernelspec": {
   "display_name": "Python 3",
   "language": "python",
   "name": "python3"
  },
  "language_info": {
   "codemirror_mode": {
    "name": "ipython",
    "version": 3
   },
   "file_extension": ".py",
   "mimetype": "text/x-python",
   "name": "python",
   "nbconvert_exporter": "python",
   "pygments_lexer": "ipython3",
   "version": "3.8.5"
  }
 },
 "nbformat": 4,
 "nbformat_minor": 4
}
